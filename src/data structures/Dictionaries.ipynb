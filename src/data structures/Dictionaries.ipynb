{
 "cells": [
  {
   "cell_type": "markdown",
   "id": "dfa7a9ff",
   "metadata": {},
   "source": [
    "**Dictionaries**(Словарь)"
   ]
  },
  {
   "cell_type": "markdown",
   "id": "ff5e6239",
   "metadata": {},
   "source": [
    "**Создание словаря**"
   ]
  },
  {
   "cell_type": "code",
   "execution_count": 22,
   "id": "ca5cce92",
   "metadata": {},
   "outputs": [],
   "source": [
    "# Словари создаются с помощью {} и : , чтобы указать ключи и значения\n",
    "my_dict = {'key1':'value1','key2':'value2'}"
   ]
  },
  {
   "cell_type": "code",
   "execution_count": 23,
   "id": "af72c777",
   "metadata": {},
   "outputs": [
    {
     "data": {
      "text/plain": [
       "'value2'"
      ]
     },
     "execution_count": 23,
     "metadata": {},
     "output_type": "execute_result"
    }
   ],
   "source": [
    "# Получаем значение по его ключу\n",
    "my_dict['key2']"
   ]
  },
  {
   "cell_type": "markdown",
   "id": "b0703c5e",
   "metadata": {},
   "source": [
    "Словари очень гибки в отношении того, какие типы данных они могут хранить. Например:"
   ]
  },
  {
   "cell_type": "code",
   "execution_count": 35,
   "id": "dad5e262",
   "metadata": {},
   "outputs": [],
   "source": [
    "my_dict = {'key1':123,'key2':[12,23,33],'key3':['item0','item1','item2']}"
   ]
  },
  {
   "cell_type": "code",
   "execution_count": 36,
   "id": "49e3a2d8",
   "metadata": {},
   "outputs": [
    {
     "data": {
      "text/plain": [
       "['item0', 'item1', 'item2']"
      ]
     },
     "execution_count": 36,
     "metadata": {},
     "output_type": "execute_result"
    }
   ],
   "source": [
    "# Возьмём из словаря элементы items\n",
    "my_dict['key3']"
   ]
  },
  {
   "cell_type": "code",
   "execution_count": 37,
   "id": "ba97f67d",
   "metadata": {},
   "outputs": [
    {
     "data": {
      "text/plain": [
       "'item0'"
      ]
     },
     "execution_count": 37,
     "metadata": {},
     "output_type": "execute_result"
    }
   ],
   "source": [
    "# Здесь можно использовать индекс для этого значения\n",
    "my_dict['key3'][0]"
   ]
  },
  {
   "cell_type": "code",
   "execution_count": 38,
   "id": "acfd6d4c",
   "metadata": {},
   "outputs": [
    {
     "data": {
      "text/plain": [
       "'ITEM0'"
      ]
     },
     "execution_count": 38,
     "metadata": {},
     "output_type": "execute_result"
    }
   ],
   "source": [
    "# И далее мы даже можем использовать методы для этого значения\n",
    "my_dict['key3'][0].upper()"
   ]
  },
  {
   "cell_type": "markdown",
   "id": "9defbd08",
   "metadata": {},
   "source": [
    "Также мы можем менять значения ключа. Например:"
   ]
  },
  {
   "cell_type": "code",
   "execution_count": 39,
   "id": "5bc14a3d",
   "metadata": {},
   "outputs": [
    {
     "data": {
      "text/plain": [
       "123"
      ]
     },
     "execution_count": 39,
     "metadata": {},
     "output_type": "execute_result"
    }
   ],
   "source": [
    "my_dict['key1']"
   ]
  },
  {
   "cell_type": "code",
   "execution_count": 42,
   "id": "0a1e57be",
   "metadata": {},
   "outputs": [],
   "source": [
    "# Вычитаем 123 из значения\n",
    "my_dict['key1'] = my_dict['key1'] - 123"
   ]
  },
  {
   "cell_type": "code",
   "execution_count": 43,
   "id": "23da850c",
   "metadata": {},
   "outputs": [
    {
     "data": {
      "text/plain": [
       "0"
      ]
     },
     "execution_count": 43,
     "metadata": {},
     "output_type": "execute_result"
    }
   ],
   "source": [
    "# Провека\n",
    "my_dict['key1']"
   ]
  },
  {
   "cell_type": "code",
   "execution_count": 44,
   "id": "217123e0",
   "metadata": {},
   "outputs": [
    {
     "data": {
      "text/plain": [
       "-123"
      ]
     },
     "execution_count": 44,
     "metadata": {},
     "output_type": "execute_result"
    }
   ],
   "source": [
    "# Присвоить объект равным его текущему значению минус 123 \n",
    "my_dict['key1'] -= 123\n",
    "my_dict['key1']"
   ]
  },
  {
   "cell_type": "markdown",
   "id": "8784c3ac",
   "metadata": {},
   "source": [
    "Мы также можем создавать ключи, присваивая значения. Например, мы можем создать пустой словарь, и затем постепенно добавлять в него элементы:"
   ]
  },
  {
   "cell_type": "code",
   "execution_count": 49,
   "id": "35a5a162",
   "metadata": {},
   "outputs": [],
   "source": [
    "# Создаем новый словарь\n",
    "d = {}"
   ]
  },
  {
   "cell_type": "code",
   "execution_count": 50,
   "id": "deab1fc9",
   "metadata": {},
   "outputs": [],
   "source": [
    "# Создаем новый ключ, присваивая ему значение\n",
    "d['animal'] = 'Dog'"
   ]
  },
  {
   "cell_type": "code",
   "execution_count": 51,
   "id": "41517742",
   "metadata": {},
   "outputs": [],
   "source": [
    "# Мы можем сделать это для любого объекта\n",
    "d['answer'] = 42"
   ]
  },
  {
   "cell_type": "code",
   "execution_count": 52,
   "id": "dd99fd67",
   "metadata": {},
   "outputs": [
    {
     "data": {
      "text/plain": [
       "{'animal': 'Dog', 'answer': 42}"
      ]
     },
     "execution_count": 52,
     "metadata": {},
     "output_type": "execute_result"
    }
   ],
   "source": [
    "# Проверка\n",
    "d"
   ]
  },
  {
   "cell_type": "markdown",
   "id": "6dd1f131",
   "metadata": {},
   "source": [
    "**Вложенные словари**"
   ]
  },
  {
   "cell_type": "code",
   "execution_count": 53,
   "id": "2626d98e",
   "metadata": {},
   "outputs": [],
   "source": [
    "# Словарь внутри словаря внутри словаря\n",
    "d = {'key1':{'nestkey':{'subnestkey':'value'}}}"
   ]
  },
  {
   "cell_type": "code",
   "execution_count": 54,
   "id": "bc793425",
   "metadata": {},
   "outputs": [
    {
     "data": {
      "text/plain": [
       "'value'"
      ]
     },
     "execution_count": 54,
     "metadata": {},
     "output_type": "execute_result"
    }
   ],
   "source": [
    "# Последовательно указываем ключи\n",
    "d['key1']['nestkey']['subnestkey']"
   ]
  },
  {
   "cell_type": "markdown",
   "id": "3affc2d5",
   "metadata": {},
   "source": [
    "**Методы словарей**"
   ]
  },
  {
   "cell_type": "code",
   "execution_count": 55,
   "id": "3e366f8d",
   "metadata": {},
   "outputs": [],
   "source": [
    "# Создаем обычный словарь\n",
    "d = {'key1':1,'key2':2,'key3':3}"
   ]
  },
  {
   "cell_type": "code",
   "execution_count": 56,
   "id": "66f5ac80",
   "metadata": {},
   "outputs": [
    {
     "data": {
      "text/plain": [
       "dict_keys(['key1', 'key2', 'key3'])"
      ]
     },
     "execution_count": 56,
     "metadata": {},
     "output_type": "execute_result"
    }
   ],
   "source": [
    "# Метод, который возвращает список всех ключей\n",
    "d.keys()"
   ]
  },
  {
   "cell_type": "code",
   "execution_count": 57,
   "id": "25cc6823",
   "metadata": {},
   "outputs": [
    {
     "data": {
      "text/plain": [
       "dict_values([1, 2, 3])"
      ]
     },
     "execution_count": 57,
     "metadata": {},
     "output_type": "execute_result"
    }
   ],
   "source": [
    "# Метод, возвращающий все значения\n",
    "d.values()"
   ]
  },
  {
   "cell_type": "code",
   "execution_count": 58,
   "id": "042fc2ba",
   "metadata": {},
   "outputs": [
    {
     "data": {
      "text/plain": [
       "dict_items([('key1', 1), ('key2', 2), ('key3', 3)])"
      ]
     },
     "execution_count": 58,
     "metadata": {},
     "output_type": "execute_result"
    }
   ],
   "source": [
    "# Метод, возвращающий кортежи (tuples) для всех элементов  (мы рассмотрим кортежи tuples чуть позже)\n",
    "d.items()"
   ]
  }
 ],
 "metadata": {
  "kernelspec": {
   "display_name": "Python 3",
   "language": "python",
   "name": "python3"
  },
  "language_info": {
   "codemirror_mode": {
    "name": "ipython",
    "version": 3
   },
   "file_extension": ".py",
   "mimetype": "text/x-python",
   "name": "python",
   "nbconvert_exporter": "python",
   "pygments_lexer": "ipython3",
   "version": "3.11.9"
  }
 },
 "nbformat": 4,
 "nbformat_minor": 5
}
